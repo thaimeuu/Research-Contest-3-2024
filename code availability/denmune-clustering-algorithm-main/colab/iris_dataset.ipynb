{
  "cells": [
    {
      "cell_type": "markdown",
      "metadata": {
        "id": "view-in-github",
        "colab_type": "text"
      },
      "source": [
        "<a href=\"https://colab.research.google.com/github/egy1st/denmune-clustering-algorithm/blob/main/colab/iris_dataset.ipynb\" target=\"_parent\"><img src=\"https://colab.research.google.com/assets/colab-badge.svg\" alt=\"Open In Colab\"/></a>"
      ]
    },
    {
      "cell_type": "code",
      "execution_count": null,
      "metadata": {
        "id": "zaaLaJHT35Fd"
      },
      "outputs": [],
      "source": [
        "import pandas as pd\n",
        "import numpy as np\n",
        "import time\n",
        "import os.path\n",
        "\n",
        "import warnings\n",
        "warnings.filterwarnings('ignore')"
      ]
    },
    {
      "cell_type": "code",
      "execution_count": null,
      "metadata": {
        "scrolled": true,
        "id": "69XXeoif35Fn"
      },
      "outputs": [],
      "source": [
        "# install DenMune clustering algorithm using pip command from the offecial Python repository, PyPi\n",
        "# from https://pypi.org/project/denmune/\n",
        "!pip install denmune\n",
        "\n",
        "# then import it\n",
        "from denmune import DenMune"
      ]
    },
    {
      "cell_type": "code",
      "execution_count": null,
      "metadata": {
        "id": "H3H8DYwU35Fo",
        "colab": {
          "base_uri": "https://localhost:8080/"
        },
        "outputId": "fee68095-9fd7-456d-f288-9140ceef8ea0"
      },
      "outputs": [
        {
          "output_type": "stream",
          "name": "stdout",
          "text": [
            "Cloning into 'datasets'...\n",
            "remote: Enumerating objects: 57, done.\u001b[K\n",
            "remote: Counting objects: 100% (57/57), done.\u001b[K\n",
            "remote: Compressing objects: 100% (46/46), done.\u001b[K\n",
            "remote: Total 57 (delta 9), reused 54 (delta 9), pack-reused 0\u001b[K\n",
            "Unpacking objects: 100% (57/57), done.\n"
          ]
        }
      ],
      "source": [
        "# clone datasets from our repository datasets\n",
        "if not os.path.exists('datasets'):\n",
        "  !git clone https://github.com/egy1st/datasets"
      ]
    },
    {
      "cell_type": "code",
      "execution_count": null,
      "metadata": {
        "colab": {
          "base_uri": "https://localhost:8080/",
          "height": 1000
        },
        "id": "xm54UWO835Fq",
        "outputId": "195b4bb6-b755-467c-82c2-c099f2a9445e"
      },
      "outputs": [
        {
          "output_type": "stream",
          "name": "stdout",
          "text": [
            "Plotting dataset Groundtruth\n"
          ]
        },
        {
          "output_type": "display_data",
          "data": {
            "image/png": "[encoded data removed]",
            "text/plain": [
              "<Figure size 432x288 with 1 Axes>"
            ]
          },
          "metadata": {
            "needs_background": "light"
          }
        },
        {
          "output_type": "stream",
          "name": "stdout",
          "text": [
            "Plotting train data\n"
          ]
        },
        {
          "output_type": "display_data",
          "data": {
            "image/png": "[encoded data removed]",
            "text/plain": [
              "<Figure size 432x288 with 1 Axes>"
            ]
          },
          "metadata": {
            "needs_background": "light"
          }
        },
        {
          "output_type": "stream",
          "name": "stdout",
          "text": [
            "Validating train data\n",
            "├── exec_time\n",
            "│   ├── DenMune: 0.019\n",
            "│   ├── NGT: 0.002\n",
            "│   └── t_SNE: 0.85\n",
            "├── n_clusters\n",
            "│   ├── actual: 3\n",
            "│   └── detected: 3\n",
            "├── n_points\n",
            "│   ├── dim: 4\n",
            "│   ├── noise\n",
            "│   │   ├── type-1: 0\n",
            "│   │   └── type-2: 0\n",
            "│   ├── plot_size: 150\n",
            "│   ├── size: 150\n",
            "│   ├── strong: 84\n",
            "│   └── weak\n",
            "│       ├── all: 66\n",
            "│       ├── failed to merge: 0\n",
            "│       └── succeeded to merge: 66\n",
            "└── validity\n",
            "    └── train\n",
            "        ├── ACC: 135\n",
            "        ├── AMI: 0.795\n",
            "        ├── ARI: 0.746\n",
            "        ├── F1: 0.898\n",
            "        ├── NMI: 0.798\n",
            "        ├── completeness: 0.809\n",
            "        └── homogeneity: 0.787\n",
            "\n"
          ]
        }
      ],
      "source": [
        "data_path = 'datasets/denmune/uci/' \n",
        "dataset='iris' \n",
        "data_file = data_path + dataset + '.csv'\n",
        "\n",
        "X_train = pd.read_csv(data_file, sep=',', header=None)\n",
        "y_train = X_train.iloc[:, -1]\n",
        "X_train = X_train.drop(X_train.columns[-1], axis=1)  \n",
        "\n",
        "knn = 11 # k-nearest neighbor, the only parameter required by the algorithm\n",
        "dm = DenMune(train_data=X_train,\n",
        "             train_truth=y_train,\n",
        "             k_nearest=knn,\n",
        "             rgn_tsne=False)\n",
        "\n",
        "labels, validity = dm.fit_predict(show_noise=True, show_analyzer=True)\n"
      ]
    }
  ],
  "metadata": {
    "kernelspec": {
      "display_name": "Python 3",
      "language": "python",
      "name": "python3"
    },
    "language_info": {
      "codemirror_mode": {
        "name": "ipython",
        "version": 3
      },
      "file_extension": ".py",
      "mimetype": "text/x-python",
      "name": "python",
      "nbconvert_exporter": "python",
      "pygments_lexer": "ipython3",
      "version": "3.7.3"
    },
    "colab": {
      "name": "iris_dataset.ipynb",
      "provenance": [],
      "collapsed_sections": [],
      "include_colab_link": true
    }
  },
  "nbformat": 4,
  "nbformat_minor": 0
}