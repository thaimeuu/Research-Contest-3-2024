{
 "cells": [
  {
   "cell_type": "markdown",
   "id": "bd842a7b",
   "metadata": {
    "papermill": {
     "duration": 0.006351,
     "end_time": "2022-01-28T22:28:43.101637",
     "exception": false,
     "start_time": "2022-01-28T22:28:43.095286",
     "status": "completed"
    },
    "tags": []
   },
   "source": [
    "![measuring scalabitiy](https://raw.githubusercontent.com/egy1st/images/main/clustering/scalability_1.jpg)\n",
    "\n",
    "we are going to measure the scalability of a simple algorithm on working a sunthestic datasets of 1000000 samples with an increment of 1000 for each cycle"
   ]
  },
  {
   "cell_type": "code",
   "execution_count": 1,
   "id": "c7db842d",
   "metadata": {
    "_cell_guid": "b1076dfc-b9ad-4769-8c92-a6c4dae69d19",
    "_uuid": "8f2839f25d086af736a60e9eeb907d3b93b6e0e5",
    "execution": {
     "iopub.execute_input": "2022-01-28T22:28:43.129914Z",
     "iopub.status.busy": "2022-01-28T22:28:43.129084Z",
     "iopub.status.idle": "2022-01-28T22:28:44.535380Z",
     "shell.execute_reply": "2022-01-28T22:28:44.535910Z",
     "shell.execute_reply.started": "2022-01-28T22:23:41.583194Z"
    },
    "papermill": {
     "duration": 1.424858,
     "end_time": "2022-01-28T22:28:44.536200",
     "exception": false,
     "start_time": "2022-01-28T22:28:43.111342",
     "status": "completed"
    },
    "tags": []
   },
   "outputs": [],
   "source": [
    "from sklearn import cluster, datasets, mixture\n",
    "import pandas as pd\n",
    "import numpy as np\n",
    "import matplotlib.pyplot as plt\n",
    "import time\n",
    "import os.path\n",
    "\n",
    "import warnings\n",
    "warnings.filterwarnings('ignore')"
   ]
  },
  {
   "cell_type": "code",
   "execution_count": 2,
   "id": "336157de",
   "metadata": {
    "execution": {
     "iopub.execute_input": "2022-01-28T22:28:44.550849Z",
     "iopub.status.busy": "2022-01-28T22:28:44.550155Z",
     "iopub.status.idle": "2022-01-28T22:28:57.256841Z",
     "shell.execute_reply": "2022-01-28T22:28:57.257371Z",
     "shell.execute_reply.started": "2022-01-28T22:19:58.275436Z"
    },
    "papermill": {
     "duration": 12.716463,
     "end_time": "2022-01-28T22:28:57.257563",
     "exception": false,
     "start_time": "2022-01-28T22:28:44.541100",
     "status": "completed"
    },
    "tags": []
   },
   "outputs": [
    {
     "name": "stdout",
     "output_type": "stream",
     "text": [
      "Collecting denmune\r\n",
      "  Downloading denmune-0.0.9.0-py3-none-any.whl (13 kB)\r\n",
      "Collecting ngt>=1.11.6\r\n",
      "  Downloading ngt-1.12.2-cp37-cp37m-manylinux1_x86_64.whl (2.2 MB)\r\n",
      "     |████████████████████████████████| 2.2 MB 594 kB/s            \r\n",
      "\u001b[?25hRequirement already satisfied: matplotlib>=3.2.1 in /opt/conda/lib/python3.7/site-packages (from denmune) (3.5.1)\r\n",
      "Requirement already satisfied: scikit-learn>=0.22.1 in /opt/conda/lib/python3.7/site-packages (from denmune) (0.23.2)\r\n",
      "Requirement already satisfied: pandas>=1.0.3 in /opt/conda/lib/python3.7/site-packages (from denmune) (1.3.5)\r\n",
      "Requirement already satisfied: numpy>=1.18.5 in /opt/conda/lib/python3.7/site-packages (from denmune) (1.20.3)\r\n",
      "Requirement already satisfied: seaborn>=0.10.1 in /opt/conda/lib/python3.7/site-packages (from denmune) (0.11.2)\r\n",
      "Collecting treelib>=1.6.1\r\n",
      "  Downloading treelib-1.6.1.tar.gz (24 kB)\r\n",
      "  Preparing metadata (setup.py) ... \u001b[?25l-\b \bdone\r\n",
      "\u001b[?25hCollecting anytree>=2.8.0\r\n",
      "  Downloading anytree-2.8.0-py2.py3-none-any.whl (41 kB)\r\n",
      "     |████████████████████████████████| 41 kB 402 kB/s             \r\n",
      "\u001b[?25hRequirement already satisfied: six>=1.9.0 in /opt/conda/lib/python3.7/site-packages (from anytree>=2.8.0->denmune) (1.16.0)\r\n",
      "Requirement already satisfied: python-dateutil>=2.7 in /opt/conda/lib/python3.7/site-packages (from matplotlib>=3.2.1->denmune) (2.8.0)\r\n",
      "Requirement already satisfied: pillow>=6.2.0 in /opt/conda/lib/python3.7/site-packages (from matplotlib>=3.2.1->denmune) (8.2.0)\r\n",
      "Requirement already satisfied: pyparsing>=2.2.1 in /opt/conda/lib/python3.7/site-packages (from matplotlib>=3.2.1->denmune) (3.0.6)\r\n",
      "Requirement already satisfied: fonttools>=4.22.0 in /opt/conda/lib/python3.7/site-packages (from matplotlib>=3.2.1->denmune) (4.28.4)\r\n",
      "Requirement already satisfied: cycler>=0.10 in /opt/conda/lib/python3.7/site-packages (from matplotlib>=3.2.1->denmune) (0.11.0)\r\n",
      "Requirement already satisfied: kiwisolver>=1.0.1 in /opt/conda/lib/python3.7/site-packages (from matplotlib>=3.2.1->denmune) (1.3.2)\r\n",
      "Requirement already satisfied: packaging>=20.0 in /opt/conda/lib/python3.7/site-packages (from matplotlib>=3.2.1->denmune) (21.3)\r\n",
      "Requirement already satisfied: pybind11 in /opt/conda/lib/python3.7/site-packages (from ngt>=1.11.6->denmune) (2.9.0)\r\n",
      "Requirement already satisfied: pytz>=2017.3 in /opt/conda/lib/python3.7/site-packages (from pandas>=1.0.3->denmune) (2021.3)\r\n",
      "Requirement already satisfied: joblib>=0.11 in /opt/conda/lib/python3.7/site-packages (from scikit-learn>=0.22.1->denmune) (1.1.0)\r\n",
      "Requirement already satisfied: threadpoolctl>=2.0.0 in /opt/conda/lib/python3.7/site-packages (from scikit-learn>=0.22.1->denmune) (3.0.0)\r\n",
      "Requirement already satisfied: scipy>=0.19.1 in /opt/conda/lib/python3.7/site-packages (from scikit-learn>=0.22.1->denmune) (1.7.3)\r\n",
      "Requirement already satisfied: future in /opt/conda/lib/python3.7/site-packages (from treelib>=1.6.1->denmune) (0.18.2)\r\n",
      "Building wheels for collected packages: treelib\r\n",
      "  Building wheel for treelib (setup.py) ... \u001b[?25l-\b \b\\\b \bdone\r\n",
      "\u001b[?25h  Created wheel for treelib: filename=treelib-1.6.1-py3-none-any.whl size=18386 sha256=fa1342aa86496fca2682e27de37372b6c02d9db5f178cf385e3d757b612e3c86\r\n",
      "  Stored in directory: /root/.cache/pip/wheels/89/be/94/2c6d949ce599d1443426d83ba4dc93cd35c0f4638260930a53\r\n",
      "Successfully built treelib\r\n",
      "Installing collected packages: treelib, ngt, anytree, denmune\r\n",
      "Successfully installed anytree-2.8.0 denmune-0.0.9.0 ngt-1.12.2 treelib-1.6.1\r\n",
      "\u001b[33mWARNING: Running pip as the 'root' user can result in broken permissions and conflicting behaviour with the system package manager. It is recommended to use a virtual environment instead: https://pip.pypa.io/warnings/venv\u001b[0m\r\n"
     ]
    }
   ],
   "source": [
    "# install DenMune clustering algorithm using pip command from the offecial Python repository, PyPi\n",
    "# from https://pypi.org/project/denmune/\n",
    "!pip install denmune\n",
    "\n",
    "# then import it\n",
    "from denmune import DenMune"
   ]
  },
  {
   "cell_type": "code",
   "execution_count": 3,
   "id": "7ad2aabe",
   "metadata": {
    "execution": {
     "iopub.execute_input": "2022-01-28T22:28:57.292305Z",
     "iopub.status.busy": "2022-01-28T22:28:57.291708Z",
     "iopub.status.idle": "2022-01-29T01:33:53.685088Z",
     "shell.execute_reply": "2022-01-29T01:33:53.685563Z",
     "shell.execute_reply.started": "2022-01-28T22:20:28.937671Z"
    },
    "papermill": {
     "duration": 11096.416056,
     "end_time": "2022-01-29T01:33:53.685738",
     "exception": false,
     "start_time": "2022-01-28T22:28:57.269682",
     "status": "completed"
    },
    "tags": []
   },
   "outputs": [
    {
     "name": "stdout",
     "output_type": "stream",
     "text": [
      "data size: 1000 time: 0.333 seconds\n",
      "data size: 2000 time: 0.595 seconds\n",
      "data size: 3000 time: 1.1276 seconds\n",
      "data size: 4000 time: 1.7952 seconds\n",
      "data size: 5000 time: 2.3139 seconds\n",
      "data size: 6000 time: 3.1343 seconds\n",
      "data size: 7000 time: 3.3585 seconds\n",
      "data size: 8000 time: 4.4224 seconds\n",
      "data size: 9000 time: 4.7971 seconds\n",
      "data size: 10000 time: 5.8752 seconds\n",
      "data size: 11000 time: 6.5827 seconds\n",
      "data size: 12000 time: 9.6683 seconds\n",
      "data size: 13000 time: 9.4713 seconds\n",
      "data size: 14000 time: 11.0425 seconds\n",
      "data size: 15000 time: 12.4535 seconds\n",
      "data size: 16000 time: 13.9596 seconds\n",
      "data size: 17000 time: 14.9328 seconds\n",
      "data size: 18000 time: 16.5946 seconds\n",
      "data size: 19000 time: 19.186 seconds\n",
      "data size: 20000 time: 18.8466 seconds\n",
      "data size: 21000 time: 24.373 seconds\n",
      "data size: 22000 time: 20.9085 seconds\n",
      "data size: 23000 time: 22.8801 seconds\n",
      "data size: 24000 time: 27.1555 seconds\n",
      "data size: 25000 time: 28.992 seconds\n",
      "data size: 26000 time: 27.9907 seconds\n",
      "data size: 27000 time: 31.3918 seconds\n",
      "data size: 28000 time: 30.8684 seconds\n",
      "data size: 29000 time: 37.933 seconds\n",
      "data size: 30000 time: 39.3166 seconds\n",
      "data size: 31000 time: 37.5004 seconds\n",
      "data size: 32000 time: 40.4274 seconds\n",
      "data size: 33000 time: 39.2117 seconds\n",
      "data size: 34000 time: 44.7354 seconds\n",
      "data size: 35000 time: 39.4842 seconds\n",
      "data size: 36000 time: 48.9078 seconds\n",
      "data size: 37000 time: 49.136 seconds\n",
      "data size: 38000 time: 52.6703 seconds\n",
      "data size: 39000 time: 59.2278 seconds\n",
      "data size: 40000 time: 63.7649 seconds\n",
      "data size: 41000 time: 66.7842 seconds\n",
      "data size: 42000 time: 60.0467 seconds\n",
      "data size: 43000 time: 70.593 seconds\n",
      "data size: 44000 time: 64.7892 seconds\n",
      "data size: 45000 time: 73.6828 seconds\n",
      "data size: 46000 time: 75.3884 seconds\n",
      "data size: 47000 time: 71.5485 seconds\n",
      "data size: 48000 time: 95.399 seconds\n",
      "data size: 49000 time: 83.8741 seconds\n",
      "data size: 50000 time: 86.9194 seconds\n",
      "data size: 51000 time: 87.0962 seconds\n",
      "data size: 52000 time: 98.3231 seconds\n",
      "data size: 53000 time: 93.4917 seconds\n",
      "data size: 54000 time: 96.9132 seconds\n",
      "data size: 55000 time: 90.1077 seconds\n",
      "data size: 56000 time: 110.2502 seconds\n",
      "data size: 57000 time: 108.8896 seconds\n",
      "data size: 58000 time: 105.9129 seconds\n",
      "data size: 59000 time: 110.2626 seconds\n",
      "data size: 60000 time: 125.0228 seconds\n",
      "data size: 61000 time: 129.6984 seconds\n",
      "data size: 62000 time: 117.2596 seconds\n",
      "data size: 63000 time: 129.5828 seconds\n",
      "data size: 64000 time: 139.7613 seconds\n",
      "data size: 65000 time: 149.1858 seconds\n",
      "data size: 66000 time: 124.9266 seconds\n",
      "data size: 67000 time: 147.3522 seconds\n",
      "data size: 68000 time: 152.697 seconds\n",
      "data size: 69000 time: 149.2824 seconds\n",
      "data size: 70000 time: 177.4184 seconds\n",
      "data size: 71000 time: 147.3274 seconds\n",
      "data size: 72000 time: 180.31 seconds\n",
      "data size: 73000 time: 211.7875 seconds\n",
      "data size: 74000 time: 201.3561 seconds\n",
      "data size: 75000 time: 204.0712 seconds\n",
      "data size: 76000 time: 190.8966 seconds\n",
      "data size: 77000 time: 226.4021 seconds\n",
      "data size: 78000 time: 180.4778 seconds\n",
      "data size: 79000 time: 202.552 seconds\n",
      "data size: 80000 time: 220.502 seconds\n",
      "data size: 81000 time: 209.6457 seconds\n",
      "data size: 82000 time: 217.5597 seconds\n",
      "data size: 83000 time: 228.1588 seconds\n",
      "data size: 84000 time: 232.4624 seconds\n",
      "data size: 85000 time: 251.7625 seconds\n",
      "data size: 86000 time: 250.0431 seconds\n",
      "data size: 87000 time: 249.5813 seconds\n",
      "data size: 88000 time: 229.9989 seconds\n",
      "data size: 89000 time: 272.7236 seconds\n",
      "data size: 90000 time: 245.0116 seconds\n",
      "data size: 91000 time: 261.3365 seconds\n",
      "data size: 92000 time: 283.8331 seconds\n",
      "data size: 93000 time: 254.8684 seconds\n",
      "data size: 94000 time: 286.5918 seconds\n",
      "data size: 95000 time: 306.4427 seconds\n",
      "data size: 96000 time: 292.0571 seconds\n",
      "data size: 97000 time: 285.3261 seconds\n",
      "data size: 98000 time: 298.7046 seconds\n",
      "data size: 99000 time: 257.563 seconds\n"
     ]
    }
   ],
   "source": [
    "# Denmune's Paramaters\n",
    "knn = 25 # k-nearest neighbor, the only parameter required by the algorithm\n",
    "data_scale = []\n",
    "\n",
    "for n in range(1000, 100000, 1000):\n",
    "    n_samples = n\n",
    "    noisy_circles = datasets.make_circles(n_samples=n_samples, factor=0.5, noise=0.05)\n",
    "    \n",
    "    data= noisy_circles[0]\n",
    "    data_labels = noisy_circles[1]\n",
    "    dm = DenMune(train_data=data, k_nearest=knn, rgn_tsne=True)\n",
    "    labels, validity = dm.fit_predict(show_noise=True, show_analyzer=False, show_plots=False)\n",
    "    time_exec = dm.analyzer['exec_time']['DenMune']\n",
    "    data_scale.append([n, time_exec ])\n",
    "\n",
    "    print('data size:',n ,  'time:' , round(time_exec,4), 'seconds')"
   ]
  },
  {
   "cell_type": "code",
   "execution_count": 4,
   "id": "711b9243",
   "metadata": {
    "execution": {
     "iopub.execute_input": "2022-01-29T01:33:53.761209Z",
     "iopub.status.busy": "2022-01-29T01:33:53.760494Z",
     "iopub.status.idle": "2022-01-29T01:33:53.762759Z",
     "shell.execute_reply": "2022-01-29T01:33:53.763140Z",
     "shell.execute_reply.started": "2022-01-28T22:27:16.219085Z"
    },
    "papermill": {
     "duration": 0.044023,
     "end_time": "2022-01-29T01:33:53.763295",
     "exception": false,
     "start_time": "2022-01-29T01:33:53.719272",
     "status": "completed"
    },
    "tags": []
   },
   "outputs": [],
   "source": [
    "# creating moving average to smoth the curve\n",
    "x, y = zip(*data_scale)\n",
    "window = 5\n",
    "cumsum, moving_aves = [0], []\n",
    "\n",
    "for i, n in enumerate(y, 1):\n",
    "    cumsum.append(cumsum[i-1] + n)\n",
    "    if i>=window:\n",
    "        moving_ave = (cumsum[i] - cumsum[i-window])/window\n",
    "        #can do stuff with moving_ave here\n",
    "        moving_aves.append(moving_ave)\n",
    "y = moving_aves        "
   ]
  },
  {
   "cell_type": "code",
   "execution_count": 5,
   "id": "aef698ab",
   "metadata": {
    "execution": {
     "iopub.execute_input": "2022-01-29T01:33:53.840305Z",
     "iopub.status.busy": "2022-01-29T01:33:53.839324Z",
     "iopub.status.idle": "2022-01-29T01:33:54.083606Z",
     "shell.execute_reply": "2022-01-29T01:33:54.084059Z",
     "shell.execute_reply.started": "2022-01-28T22:27:18.551348Z"
    },
    "papermill": {
     "duration": 0.287212,
     "end_time": "2022-01-29T01:33:54.084219",
     "exception": false,
     "start_time": "2022-01-29T01:33:53.797007",
     "status": "completed"
    },
    "tags": []
   },
   "outputs": [
    {
     "data": {
      "image/png": "[encoded data removed]",
      "text/plain": [
       "<Figure size 648x504 with 1 Axes>"
      ]
     },
     "metadata": {
      "needs_background": "light"
     },
     "output_type": "display_data"
    }
   ],
   "source": [
    "# Creating figure and axis objects using subplots()\n",
    "fig, ax = plt.subplots(figsize=[9, 7])\n",
    "ax.plot(x[:-window+1], y, marker='.', linewidth=2, label='DenMune Scalability')\n",
    "plt.xticks(rotation=60)\n",
    "ax.set_xlabel('Dataset size')\n",
    "ax.set_ylabel('Time in seconds')\n",
    "plt.legend()\n",
    "plt.show()"
   ]
  }
 ],
 "metadata": {
  "kernelspec": {
   "display_name": "Python 3",
   "language": "python",
   "name": "python3"
  },
  "language_info": {
   "codemirror_mode": {
    "name": "ipython",
    "version": 3
   },
   "file_extension": ".py",
   "mimetype": "text/x-python",
   "name": "python",
   "nbconvert_exporter": "python",
   "pygments_lexer": "ipython3",
   "version": "3.7.12"
  },
  "papermill": {
   "default_parameters": {},
   "duration": 11122.40337,
   "end_time": "2022-01-29T01:33:56.843876",
   "environment_variables": {},
   "exception": null,
   "input_path": "__notebook__.ipynb",
   "output_path": "__notebook__.ipynb",
   "parameters": {},
   "start_time": "2022-01-28T22:28:34.440506",
   "version": "2.3.3"
  }
 },
 "nbformat": 4,
 "nbformat_minor": 5
}
